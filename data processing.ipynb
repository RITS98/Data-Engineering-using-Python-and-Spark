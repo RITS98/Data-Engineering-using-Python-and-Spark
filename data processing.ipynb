{
 "cells": [
  {
   "cell_type": "code",
   "execution_count": 2,
   "metadata": {},
   "outputs": [
    {
     "name": "stdout",
     "output_type": "stream",
     "text": [
      "Requirement already satisfied: dask[complete] in /opt/anaconda3/lib/python3.12/site-packages (2024.8.2)\n",
      "Requirement already satisfied: click>=8.1 in /opt/anaconda3/lib/python3.12/site-packages (from dask[complete]) (8.1.7)\n",
      "Requirement already satisfied: cloudpickle>=3.0.0 in /opt/anaconda3/lib/python3.12/site-packages (from dask[complete]) (3.0.0)\n",
      "Requirement already satisfied: fsspec>=2021.09.0 in /opt/anaconda3/lib/python3.12/site-packages (from dask[complete]) (2024.10.0)\n",
      "Requirement already satisfied: packaging>=20.0 in /opt/anaconda3/lib/python3.12/site-packages (from dask[complete]) (24.2)\n",
      "Requirement already satisfied: partd>=1.4.0 in /opt/anaconda3/lib/python3.12/site-packages (from dask[complete]) (1.4.1)\n",
      "Requirement already satisfied: pyyaml>=5.3.1 in /opt/anaconda3/lib/python3.12/site-packages (from dask[complete]) (6.0.2)\n",
      "Requirement already satisfied: toolz>=0.10.0 in /opt/anaconda3/lib/python3.12/site-packages (from dask[complete]) (0.12.0)\n",
      "Requirement already satisfied: pyarrow>=14.0.1 in /opt/anaconda3/lib/python3.12/site-packages (from dask[complete]) (16.1.0)\n",
      "Requirement already satisfied: lz4>=4.3.2 in /opt/anaconda3/lib/python3.12/site-packages (from dask[complete]) (4.3.2)\n",
      "Requirement already satisfied: locket in /opt/anaconda3/lib/python3.12/site-packages (from partd>=1.4.0->dask[complete]) (1.0.0)\n",
      "Requirement already satisfied: numpy>=1.16.6 in /opt/anaconda3/lib/python3.12/site-packages (from pyarrow>=14.0.1->dask[complete]) (1.26.4)\n",
      "Requirement already satisfied: pandas>=2.0 in /opt/anaconda3/lib/python3.12/site-packages (from dask[complete]) (2.2.3)\n",
      "Requirement already satisfied: dask-expr<1.2,>=1.1 in /opt/anaconda3/lib/python3.12/site-packages (from dask[complete]) (1.1.13)\n",
      "Requirement already satisfied: bokeh>=2.4.2 in /opt/anaconda3/lib/python3.12/site-packages (from dask[complete]) (3.6.0)\n",
      "Requirement already satisfied: jinja2>=2.10.3 in /opt/anaconda3/lib/python3.12/site-packages (from dask[complete]) (3.1.4)\n",
      "Requirement already satisfied: distributed==2024.8.2 in /opt/anaconda3/lib/python3.12/site-packages (from dask[complete]) (2024.8.2)\n",
      "Requirement already satisfied: msgpack>=1.0.2 in /opt/anaconda3/lib/python3.12/site-packages (from distributed==2024.8.2->dask[complete]) (1.0.3)\n",
      "Requirement already satisfied: psutil>=5.8.0 in /opt/anaconda3/lib/python3.12/site-packages (from distributed==2024.8.2->dask[complete]) (6.1.0)\n",
      "Requirement already satisfied: sortedcontainers>=2.0.5 in /opt/anaconda3/lib/python3.12/site-packages (from distributed==2024.8.2->dask[complete]) (2.4.0)\n",
      "Requirement already satisfied: tblib>=1.6.0 in /opt/anaconda3/lib/python3.12/site-packages (from distributed==2024.8.2->dask[complete]) (1.7.0)\n",
      "Requirement already satisfied: tornado>=6.2.0 in /opt/anaconda3/lib/python3.12/site-packages (from distributed==2024.8.2->dask[complete]) (6.4.1)\n",
      "Requirement already satisfied: urllib3>=1.26.5 in /opt/anaconda3/lib/python3.12/site-packages (from distributed==2024.8.2->dask[complete]) (2.2.3)\n",
      "Requirement already satisfied: zict>=3.0.0 in /opt/anaconda3/lib/python3.12/site-packages (from distributed==2024.8.2->dask[complete]) (3.0.0)\n",
      "Requirement already satisfied: contourpy>=1.2 in /opt/anaconda3/lib/python3.12/site-packages (from bokeh>=2.4.2->dask[complete]) (1.2.0)\n",
      "Requirement already satisfied: pillow>=7.1.0 in /opt/anaconda3/lib/python3.12/site-packages (from bokeh>=2.4.2->dask[complete]) (10.4.0)\n",
      "Requirement already satisfied: xyzservices>=2021.09.1 in /opt/anaconda3/lib/python3.12/site-packages (from bokeh>=2.4.2->dask[complete]) (2022.9.0)\n",
      "Requirement already satisfied: MarkupSafe>=2.0 in /opt/anaconda3/lib/python3.12/site-packages (from jinja2>=2.10.3->dask[complete]) (3.0.2)\n",
      "Requirement already satisfied: python-dateutil>=2.8.2 in /opt/anaconda3/lib/python3.12/site-packages (from pandas>=2.0->dask[complete]) (2.9.0.post0)\n",
      "Requirement already satisfied: pytz>=2020.1 in /opt/anaconda3/lib/python3.12/site-packages (from pandas>=2.0->dask[complete]) (2024.2)\n",
      "Requirement already satisfied: tzdata>=2022.7 in /opt/anaconda3/lib/python3.12/site-packages (from pandas>=2.0->dask[complete]) (2024.2)\n",
      "Requirement already satisfied: six>=1.5 in /opt/anaconda3/lib/python3.12/site-packages (from python-dateutil>=2.8.2->pandas>=2.0->dask[complete]) (1.17.0)\n"
     ]
    }
   ],
   "source": [
    "!pip install dask\\[complete\\]"
   ]
  },
  {
   "cell_type": "code",
   "execution_count": 3,
   "metadata": {},
   "outputs": [
    {
     "name": "stdout",
     "output_type": "stream",
     "text": [
      "Collecting pyspark\n",
      "  Downloading pyspark-3.5.4.tar.gz (317.3 MB)\n",
      "\u001b[2K     \u001b[38;2;114;156;31m━━━━━━━━━━━━━━━━━━━━━━━━━━━━━━━━━━━━━━\u001b[0m \u001b[32m317.3/317.3 MB\u001b[0m \u001b[31m48.3 MB/s\u001b[0m eta \u001b[36m0:00:00\u001b[0mm eta \u001b[36m0:00:01\u001b[0m0:01\u001b[0m:01\u001b[0m\n",
      "\u001b[?25h  Preparing metadata (setup.py) ... \u001b[?25ldone\n",
      "\u001b[?25hCollecting py4j==0.10.9.7 (from pyspark)\n",
      "  Using cached py4j-0.10.9.7-py2.py3-none-any.whl.metadata (1.5 kB)\n",
      "Using cached py4j-0.10.9.7-py2.py3-none-any.whl (200 kB)\n",
      "Building wheels for collected packages: pyspark\n",
      "  Building wheel for pyspark (setup.py) ... \u001b[?25ldone\n",
      "\u001b[?25h  Created wheel for pyspark: filename=pyspark-3.5.4-py2.py3-none-any.whl size=317849766 sha256=cd02ab18f40e5d7b12d50303a959af853d78d8c91d53396b28d1b02a08236b2f\n",
      "  Stored in directory: /Users/ritayanpatra/Library/Caches/pip/wheels/13/92/64/da92a3521323cc629fdf25dd56eb26938e08014c1b57ad3759\n",
      "Successfully built pyspark\n",
      "Installing collected packages: py4j, pyspark\n",
      "Successfully installed py4j-0.10.9.7 pyspark-3.5.4\n"
     ]
    }
   ],
   "source": [
    "!pip install pyspark"
   ]
  },
  {
   "cell_type": "code",
   "execution_count": 4,
   "metadata": {},
   "outputs": [
    {
     "name": "stdout",
     "output_type": "stream",
     "text": [
      "Cloning into 'data'...\n",
      "remote: Enumerating objects: 156, done.\u001b[K\n",
      "remote: Counting objects: 100% (11/11), done.\u001b[K\n",
      "remote: Compressing objects: 100% (10/10), done.\u001b[K\n",
      "remote: Total 156 (delta 3), reused 7 (delta 1), pack-reused 145 (from 1)\u001b[K\n",
      "Receiving objects: 100% (156/156), 282.65 MiB | 32.13 MiB/s, done.\n",
      "Resolving deltas: 100% (17/17), done.\n",
      "Updating files: 100% (78/78), done.\n"
     ]
    }
   ],
   "source": [
    "!git clone https://github.com/dgadiraju/data"
   ]
  },
  {
   "cell_type": "code",
   "execution_count": 5,
   "metadata": {},
   "outputs": [
    {
     "name": "stdout",
     "output_type": "stream",
     "text": [
      "total 272040\n",
      "-rw-r--r--@ 1 ritayanpatra  staff   3842443 Jan 20 23:51 NYSE_1997.txt.gz\n",
      "-rw-r--r--@ 1 ritayanpatra  staff   4142942 Jan 20 23:51 NYSE_1998.txt.gz\n",
      "-rw-r--r--@ 1 ritayanpatra  staff   4297025 Jan 20 23:51 NYSE_1999.txt.gz\n",
      "-rw-r--r--@ 1 ritayanpatra  staff   4439306 Jan 20 23:51 NYSE_2000.txt.gz\n",
      "-rw-r--r--@ 1 ritayanpatra  staff   4722623 Jan 20 23:51 NYSE_2001.txt.gz\n",
      "-rw-r--r--@ 1 ritayanpatra  staff   5021940 Jan 20 23:51 NYSE_2002.txt.gz\n",
      "-rw-r--r--@ 1 ritayanpatra  staff   5271305 Jan 20 23:51 NYSE_2003.txt.gz\n",
      "-rw-r--r--@ 1 ritayanpatra  staff   5689069 Jan 20 23:51 NYSE_2004.txt.gz\n",
      "-rw-r--r--@ 1 ritayanpatra  staff   6207833 Jan 20 23:51 NYSE_2005.txt.gz\n",
      "-rw-r--r--@ 1 ritayanpatra  staff   6480175 Jan 20 23:51 NYSE_2006.txt.gz\n",
      "-rw-r--r--@ 1 ritayanpatra  staff   6903056 Jan 20 23:51 NYSE_2007.txt.gz\n",
      "-rw-r--r--@ 1 ritayanpatra  staff   7179621 Jan 20 23:51 NYSE_2008.txt.gz\n",
      "-rw-r--r--@ 1 ritayanpatra  staff   7186235 Jan 20 23:51 NYSE_2009.txt.gz\n",
      "-rw-r--r--@ 1 ritayanpatra  staff   7551218 Jan 20 23:51 NYSE_2010.txt.gz\n",
      "-rw-r--r--@ 1 ritayanpatra  staff   7980961 Jan 20 23:51 NYSE_2011.txt.gz\n",
      "-rw-r--r--@ 1 ritayanpatra  staff   8538688 Jan 20 23:51 NYSE_2012.txt.gz\n",
      "-rw-r--r--@ 1 ritayanpatra  staff   9588984 Jan 20 23:51 NYSE_2013.txt.gz\n",
      "-rw-r--r--@ 1 ritayanpatra  staff  10552757 Jan 20 23:51 NYSE_2014.txt.gz\n",
      "-rw-r--r--@ 1 ritayanpatra  staff  11327417 Jan 20 23:51 NYSE_2015.txt.gz\n",
      "-rw-r--r--@ 1 ritayanpatra  staff  11796756 Jan 20 23:51 NYSE_2016.txt.gz\n",
      "-rw-r--r--@ 1 ritayanpatra  staff    519586 Jan 20 23:51 NYSE_2017.txt.gz\n"
     ]
    }
   ],
   "source": [
    "!ls -ltr data/nyse_all/nyse_data"
   ]
  },
  {
   "cell_type": "code",
   "execution_count": null,
   "metadata": {},
   "outputs": [],
   "source": []
  }
 ],
 "metadata": {
  "kernelspec": {
   "display_name": "base",
   "language": "python",
   "name": "python3"
  },
  "language_info": {
   "codemirror_mode": {
    "name": "ipython",
    "version": 3
   },
   "file_extension": ".py",
   "mimetype": "text/x-python",
   "name": "python",
   "nbconvert_exporter": "python",
   "pygments_lexer": "ipython3",
   "version": "3.12.7"
  }
 },
 "nbformat": 4,
 "nbformat_minor": 2
}
